{
  "cells": [
    {
      "cell_type": "markdown",
      "id": "instant-extension",
      "metadata": {
        "execution": {
          "iopub.execute_input": "2021-05-27T18:10:52.748826Z",
          "iopub.status.busy": "2021-05-27T18:10:52.748208Z",
          "iopub.status.idle": "2021-05-27T18:10:54.031005Z",
          "shell.execute_reply": "2021-05-27T18:10:54.029814Z",
          "shell.execute_reply.started": "2021-05-27T18:10:52.748791Z"
        },
        "papermill": {
          "duration": 0.03548,
          "end_time": "2021-06-22T12:32:06.037740",
          "exception": false,
          "start_time": "2021-06-22T12:32:06.002260",
          "status": "completed"
        },
        "tags": [],
        "id": "instant-extension"
      },
      "source": [
        "**IRIS FLOWER CLASSIFICATION**\n",
        "\n",
        "\n",
        "Name - Md. Arshan Shaikh"
      ]
    },
    {
      "cell_type": "code",
      "execution_count": 1,
      "id": "hydraulic-rwanda",
      "metadata": {
        "execution": {
          "iopub.execute_input": "2021-06-22T12:32:06.187461Z",
          "iopub.status.busy": "2021-06-22T12:32:06.186836Z",
          "iopub.status.idle": "2021-06-22T12:32:06.974130Z",
          "shell.execute_reply": "2021-06-22T12:32:06.973370Z",
          "shell.execute_reply.started": "2021-05-30T08:59:19.668974Z"
        },
        "papermill": {
          "duration": 0.833392,
          "end_time": "2021-06-22T12:32:06.974308",
          "exception": false,
          "start_time": "2021-06-22T12:32:06.140916",
          "status": "completed"
        },
        "tags": [],
        "id": "hydraulic-rwanda"
      },
      "outputs": [],
      "source": [
        "import numpy as np\n",
        "import pandas as pd\n",
        "import matplotlib.pyplot as plt\n",
        "import seaborn as sns\n",
        "\n",
        "%matplotlib inline"
      ]
    },
    {
      "cell_type": "code",
      "execution_count": 2,
      "id": "integral-belief",
      "metadata": {
        "execution": {
          "iopub.execute_input": "2021-06-22T12:32:07.048310Z",
          "iopub.status.busy": "2021-06-22T12:32:07.047661Z",
          "iopub.status.idle": "2021-06-22T12:32:07.087813Z",
          "shell.execute_reply": "2021-06-22T12:32:07.087144Z",
          "shell.execute_reply.started": "2021-05-30T08:59:19.76087Z"
        },
        "papermill": {
          "duration": 0.079141,
          "end_time": "2021-06-22T12:32:07.087963",
          "exception": false,
          "start_time": "2021-06-22T12:32:07.008822",
          "status": "completed"
        },
        "tags": [],
        "colab": {
          "base_uri": "https://localhost:8080/",
          "height": 206
        },
        "id": "integral-belief",
        "outputId": "2289c0af-278f-4c74-b972-b9cfe0d4e8c4"
      },
      "outputs": [
        {
          "output_type": "execute_result",
          "data": {
            "text/plain": [
              "   Id  SepalLengthCm  SepalWidthCm  PetalLengthCm  PetalWidthCm      Species\n",
              "0   1            5.1           3.5            1.4           0.2  Iris-setosa\n",
              "1   2            4.9           3.0            1.4           0.2  Iris-setosa\n",
              "2   3            4.7           3.2            1.3           0.2  Iris-setosa\n",
              "3   4            4.6           3.1            1.5           0.2  Iris-setosa\n",
              "4   5            5.0           3.6            1.4           0.2  Iris-setosa"
            ],
            "text/html": [
              "\n",
              "  <div id=\"df-f06e12e4-ba4a-4e28-97c2-4ca7e9e7806a\" class=\"colab-df-container\">\n",
              "    <div>\n",
              "<style scoped>\n",
              "    .dataframe tbody tr th:only-of-type {\n",
              "        vertical-align: middle;\n",
              "    }\n",
              "\n",
              "    .dataframe tbody tr th {\n",
              "        vertical-align: top;\n",
              "    }\n",
              "\n",
              "    .dataframe thead th {\n",
              "        text-align: right;\n",
              "    }\n",
              "</style>\n",
              "<table border=\"1\" class=\"dataframe\">\n",
              "  <thead>\n",
              "    <tr style=\"text-align: right;\">\n",
              "      <th></th>\n",
              "      <th>Id</th>\n",
              "      <th>SepalLengthCm</th>\n",
              "      <th>SepalWidthCm</th>\n",
              "      <th>PetalLengthCm</th>\n",
              "      <th>PetalWidthCm</th>\n",
              "      <th>Species</th>\n",
              "    </tr>\n",
              "  </thead>\n",
              "  <tbody>\n",
              "    <tr>\n",
              "      <th>0</th>\n",
              "      <td>1</td>\n",
              "      <td>5.1</td>\n",
              "      <td>3.5</td>\n",
              "      <td>1.4</td>\n",
              "      <td>0.2</td>\n",
              "      <td>Iris-setosa</td>\n",
              "    </tr>\n",
              "    <tr>\n",
              "      <th>1</th>\n",
              "      <td>2</td>\n",
              "      <td>4.9</td>\n",
              "      <td>3.0</td>\n",
              "      <td>1.4</td>\n",
              "      <td>0.2</td>\n",
              "      <td>Iris-setosa</td>\n",
              "    </tr>\n",
              "    <tr>\n",
              "      <th>2</th>\n",
              "      <td>3</td>\n",
              "      <td>4.7</td>\n",
              "      <td>3.2</td>\n",
              "      <td>1.3</td>\n",
              "      <td>0.2</td>\n",
              "      <td>Iris-setosa</td>\n",
              "    </tr>\n",
              "    <tr>\n",
              "      <th>3</th>\n",
              "      <td>4</td>\n",
              "      <td>4.6</td>\n",
              "      <td>3.1</td>\n",
              "      <td>1.5</td>\n",
              "      <td>0.2</td>\n",
              "      <td>Iris-setosa</td>\n",
              "    </tr>\n",
              "    <tr>\n",
              "      <th>4</th>\n",
              "      <td>5</td>\n",
              "      <td>5.0</td>\n",
              "      <td>3.6</td>\n",
              "      <td>1.4</td>\n",
              "      <td>0.2</td>\n",
              "      <td>Iris-setosa</td>\n",
              "    </tr>\n",
              "  </tbody>\n",
              "</table>\n",
              "</div>\n",
              "    <div class=\"colab-df-buttons\">\n",
              "\n",
              "  <div class=\"colab-df-container\">\n",
              "    <button class=\"colab-df-convert\" onclick=\"convertToInteractive('df-f06e12e4-ba4a-4e28-97c2-4ca7e9e7806a')\"\n",
              "            title=\"Convert this dataframe to an interactive table.\"\n",
              "            style=\"display:none;\">\n",
              "\n",
              "  <svg xmlns=\"http://www.w3.org/2000/svg\" height=\"24px\" viewBox=\"0 -960 960 960\">\n",
              "    <path d=\"M120-120v-720h720v720H120Zm60-500h600v-160H180v160Zm220 220h160v-160H400v160Zm0 220h160v-160H400v160ZM180-400h160v-160H180v160Zm440 0h160v-160H620v160ZM180-180h160v-160H180v160Zm440 0h160v-160H620v160Z\"/>\n",
              "  </svg>\n",
              "    </button>\n",
              "\n",
              "  <style>\n",
              "    .colab-df-container {\n",
              "      display:flex;\n",
              "      gap: 12px;\n",
              "    }\n",
              "\n",
              "    .colab-df-convert {\n",
              "      background-color: #E8F0FE;\n",
              "      border: none;\n",
              "      border-radius: 50%;\n",
              "      cursor: pointer;\n",
              "      display: none;\n",
              "      fill: #1967D2;\n",
              "      height: 32px;\n",
              "      padding: 0 0 0 0;\n",
              "      width: 32px;\n",
              "    }\n",
              "\n",
              "    .colab-df-convert:hover {\n",
              "      background-color: #E2EBFA;\n",
              "      box-shadow: 0px 1px 2px rgba(60, 64, 67, 0.3), 0px 1px 3px 1px rgba(60, 64, 67, 0.15);\n",
              "      fill: #174EA6;\n",
              "    }\n",
              "\n",
              "    .colab-df-buttons div {\n",
              "      margin-bottom: 4px;\n",
              "    }\n",
              "\n",
              "    [theme=dark] .colab-df-convert {\n",
              "      background-color: #3B4455;\n",
              "      fill: #D2E3FC;\n",
              "    }\n",
              "\n",
              "    [theme=dark] .colab-df-convert:hover {\n",
              "      background-color: #434B5C;\n",
              "      box-shadow: 0px 1px 3px 1px rgba(0, 0, 0, 0.15);\n",
              "      filter: drop-shadow(0px 1px 2px rgba(0, 0, 0, 0.3));\n",
              "      fill: #FFFFFF;\n",
              "    }\n",
              "  </style>\n",
              "\n",
              "    <script>\n",
              "      const buttonEl =\n",
              "        document.querySelector('#df-f06e12e4-ba4a-4e28-97c2-4ca7e9e7806a button.colab-df-convert');\n",
              "      buttonEl.style.display =\n",
              "        google.colab.kernel.accessAllowed ? 'block' : 'none';\n",
              "\n",
              "      async function convertToInteractive(key) {\n",
              "        const element = document.querySelector('#df-f06e12e4-ba4a-4e28-97c2-4ca7e9e7806a');\n",
              "        const dataTable =\n",
              "          await google.colab.kernel.invokeFunction('convertToInteractive',\n",
              "                                                    [key], {});\n",
              "        if (!dataTable) return;\n",
              "\n",
              "        const docLinkHtml = 'Like what you see? Visit the ' +\n",
              "          '<a target=\"_blank\" href=https://colab.research.google.com/notebooks/data_table.ipynb>data table notebook</a>'\n",
              "          + ' to learn more about interactive tables.';\n",
              "        element.innerHTML = '';\n",
              "        dataTable['output_type'] = 'display_data';\n",
              "        await google.colab.output.renderOutput(dataTable, element);\n",
              "        const docLink = document.createElement('div');\n",
              "        docLink.innerHTML = docLinkHtml;\n",
              "        element.appendChild(docLink);\n",
              "      }\n",
              "    </script>\n",
              "  </div>\n",
              "\n",
              "\n",
              "<div id=\"df-ed4e5031-bba5-49e4-8a05-2cbd72265958\">\n",
              "  <button class=\"colab-df-quickchart\" onclick=\"quickchart('df-ed4e5031-bba5-49e4-8a05-2cbd72265958')\"\n",
              "            title=\"Suggest charts\"\n",
              "            style=\"display:none;\">\n",
              "\n",
              "<svg xmlns=\"http://www.w3.org/2000/svg\" height=\"24px\"viewBox=\"0 0 24 24\"\n",
              "     width=\"24px\">\n",
              "    <g>\n",
              "        <path d=\"M19 3H5c-1.1 0-2 .9-2 2v14c0 1.1.9 2 2 2h14c1.1 0 2-.9 2-2V5c0-1.1-.9-2-2-2zM9 17H7v-7h2v7zm4 0h-2V7h2v10zm4 0h-2v-4h2v4z\"/>\n",
              "    </g>\n",
              "</svg>\n",
              "  </button>\n",
              "\n",
              "<style>\n",
              "  .colab-df-quickchart {\n",
              "      --bg-color: #E8F0FE;\n",
              "      --fill-color: #1967D2;\n",
              "      --hover-bg-color: #E2EBFA;\n",
              "      --hover-fill-color: #174EA6;\n",
              "      --disabled-fill-color: #AAA;\n",
              "      --disabled-bg-color: #DDD;\n",
              "  }\n",
              "\n",
              "  [theme=dark] .colab-df-quickchart {\n",
              "      --bg-color: #3B4455;\n",
              "      --fill-color: #D2E3FC;\n",
              "      --hover-bg-color: #434B5C;\n",
              "      --hover-fill-color: #FFFFFF;\n",
              "      --disabled-bg-color: #3B4455;\n",
              "      --disabled-fill-color: #666;\n",
              "  }\n",
              "\n",
              "  .colab-df-quickchart {\n",
              "    background-color: var(--bg-color);\n",
              "    border: none;\n",
              "    border-radius: 50%;\n",
              "    cursor: pointer;\n",
              "    display: none;\n",
              "    fill: var(--fill-color);\n",
              "    height: 32px;\n",
              "    padding: 0;\n",
              "    width: 32px;\n",
              "  }\n",
              "\n",
              "  .colab-df-quickchart:hover {\n",
              "    background-color: var(--hover-bg-color);\n",
              "    box-shadow: 0 1px 2px rgba(60, 64, 67, 0.3), 0 1px 3px 1px rgba(60, 64, 67, 0.15);\n",
              "    fill: var(--button-hover-fill-color);\n",
              "  }\n",
              "\n",
              "  .colab-df-quickchart-complete:disabled,\n",
              "  .colab-df-quickchart-complete:disabled:hover {\n",
              "    background-color: var(--disabled-bg-color);\n",
              "    fill: var(--disabled-fill-color);\n",
              "    box-shadow: none;\n",
              "  }\n",
              "\n",
              "  .colab-df-spinner {\n",
              "    border: 2px solid var(--fill-color);\n",
              "    border-color: transparent;\n",
              "    border-bottom-color: var(--fill-color);\n",
              "    animation:\n",
              "      spin 1s steps(1) infinite;\n",
              "  }\n",
              "\n",
              "  @keyframes spin {\n",
              "    0% {\n",
              "      border-color: transparent;\n",
              "      border-bottom-color: var(--fill-color);\n",
              "      border-left-color: var(--fill-color);\n",
              "    }\n",
              "    20% {\n",
              "      border-color: transparent;\n",
              "      border-left-color: var(--fill-color);\n",
              "      border-top-color: var(--fill-color);\n",
              "    }\n",
              "    30% {\n",
              "      border-color: transparent;\n",
              "      border-left-color: var(--fill-color);\n",
              "      border-top-color: var(--fill-color);\n",
              "      border-right-color: var(--fill-color);\n",
              "    }\n",
              "    40% {\n",
              "      border-color: transparent;\n",
              "      border-right-color: var(--fill-color);\n",
              "      border-top-color: var(--fill-color);\n",
              "    }\n",
              "    60% {\n",
              "      border-color: transparent;\n",
              "      border-right-color: var(--fill-color);\n",
              "    }\n",
              "    80% {\n",
              "      border-color: transparent;\n",
              "      border-right-color: var(--fill-color);\n",
              "      border-bottom-color: var(--fill-color);\n",
              "    }\n",
              "    90% {\n",
              "      border-color: transparent;\n",
              "      border-bottom-color: var(--fill-color);\n",
              "    }\n",
              "  }\n",
              "</style>\n",
              "\n",
              "  <script>\n",
              "    async function quickchart(key) {\n",
              "      const quickchartButtonEl =\n",
              "        document.querySelector('#' + key + ' button');\n",
              "      quickchartButtonEl.disabled = true;  // To prevent multiple clicks.\n",
              "      quickchartButtonEl.classList.add('colab-df-spinner');\n",
              "      try {\n",
              "        const charts = await google.colab.kernel.invokeFunction(\n",
              "            'suggestCharts', [key], {});\n",
              "      } catch (error) {\n",
              "        console.error('Error during call to suggestCharts:', error);\n",
              "      }\n",
              "      quickchartButtonEl.classList.remove('colab-df-spinner');\n",
              "      quickchartButtonEl.classList.add('colab-df-quickchart-complete');\n",
              "    }\n",
              "    (() => {\n",
              "      let quickchartButtonEl =\n",
              "        document.querySelector('#df-ed4e5031-bba5-49e4-8a05-2cbd72265958 button');\n",
              "      quickchartButtonEl.style.display =\n",
              "        google.colab.kernel.accessAllowed ? 'block' : 'none';\n",
              "    })();\n",
              "  </script>\n",
              "</div>\n",
              "\n",
              "    </div>\n",
              "  </div>\n"
            ],
            "application/vnd.google.colaboratory.intrinsic+json": {
              "type": "dataframe",
              "variable_name": "df",
              "summary": "{\n  \"name\": \"df\",\n  \"rows\": 150,\n  \"fields\": [\n    {\n      \"column\": \"Id\",\n      \"properties\": {\n        \"dtype\": \"number\",\n        \"std\": 43,\n        \"min\": 1,\n        \"max\": 150,\n        \"num_unique_values\": 150,\n        \"samples\": [\n          74,\n          19,\n          119\n        ],\n        \"semantic_type\": \"\",\n        \"description\": \"\"\n      }\n    },\n    {\n      \"column\": \"SepalLengthCm\",\n      \"properties\": {\n        \"dtype\": \"number\",\n        \"std\": 0.828066127977863,\n        \"min\": 4.3,\n        \"max\": 7.9,\n        \"num_unique_values\": 35,\n        \"samples\": [\n          6.2,\n          4.5,\n          5.6\n        ],\n        \"semantic_type\": \"\",\n        \"description\": \"\"\n      }\n    },\n    {\n      \"column\": \"SepalWidthCm\",\n      \"properties\": {\n        \"dtype\": \"number\",\n        \"std\": 0.4335943113621737,\n        \"min\": 2.0,\n        \"max\": 4.4,\n        \"num_unique_values\": 23,\n        \"samples\": [\n          2.3,\n          4.0,\n          3.5\n        ],\n        \"semantic_type\": \"\",\n        \"description\": \"\"\n      }\n    },\n    {\n      \"column\": \"PetalLengthCm\",\n      \"properties\": {\n        \"dtype\": \"number\",\n        \"std\": 1.7644204199522626,\n        \"min\": 1.0,\n        \"max\": 6.9,\n        \"num_unique_values\": 43,\n        \"samples\": [\n          6.7,\n          3.8,\n          3.7\n        ],\n        \"semantic_type\": \"\",\n        \"description\": \"\"\n      }\n    },\n    {\n      \"column\": \"PetalWidthCm\",\n      \"properties\": {\n        \"dtype\": \"number\",\n        \"std\": 0.7631607417008411,\n        \"min\": 0.1,\n        \"max\": 2.5,\n        \"num_unique_values\": 22,\n        \"samples\": [\n          0.2,\n          1.2,\n          1.3\n        ],\n        \"semantic_type\": \"\",\n        \"description\": \"\"\n      }\n    },\n    {\n      \"column\": \"Species\",\n      \"properties\": {\n        \"dtype\": \"category\",\n        \"num_unique_values\": 3,\n        \"samples\": [\n          \"Iris-setosa\",\n          \"Iris-versicolor\",\n          \"Iris-virginica\"\n        ],\n        \"semantic_type\": \"\",\n        \"description\": \"\"\n      }\n    }\n  ]\n}"
            }
          },
          "metadata": {},
          "execution_count": 2
        }
      ],
      "source": [
        "df=pd.read_csv('/content/Iris.csv')\n",
        "df.head()"
      ]
    },
    {
      "cell_type": "code",
      "execution_count": 3,
      "id": "associate-standard",
      "metadata": {
        "execution": {
          "iopub.execute_input": "2021-06-22T12:32:07.162307Z",
          "iopub.status.busy": "2021-06-22T12:32:07.161617Z",
          "iopub.status.idle": "2021-06-22T12:32:07.181614Z",
          "shell.execute_reply": "2021-06-22T12:32:07.182103Z",
          "shell.execute_reply.started": "2021-05-30T08:59:19.791276Z"
        },
        "papermill": {
          "duration": 0.057809,
          "end_time": "2021-06-22T12:32:07.182303",
          "exception": false,
          "start_time": "2021-06-22T12:32:07.124494",
          "status": "completed"
        },
        "tags": [],
        "colab": {
          "base_uri": "https://localhost:8080/"
        },
        "id": "associate-standard",
        "outputId": "260ad3a0-d249-4b65-b633-28140322ca7e"
      },
      "outputs": [
        {
          "output_type": "stream",
          "name": "stdout",
          "text": [
            "<class 'pandas.core.frame.DataFrame'>\n",
            "RangeIndex: 150 entries, 0 to 149\n",
            "Data columns (total 6 columns):\n",
            " #   Column         Non-Null Count  Dtype  \n",
            "---  ------         --------------  -----  \n",
            " 0   Id             150 non-null    int64  \n",
            " 1   SepalLengthCm  150 non-null    float64\n",
            " 2   SepalWidthCm   150 non-null    float64\n",
            " 3   PetalLengthCm  150 non-null    float64\n",
            " 4   PetalWidthCm   150 non-null    float64\n",
            " 5   Species        150 non-null    object \n",
            "dtypes: float64(4), int64(1), object(1)\n",
            "memory usage: 7.2+ KB\n"
          ]
        }
      ],
      "source": [
        "df.info()"
      ]
    },
    {
      "cell_type": "code",
      "execution_count": 4,
      "id": "still-behavior",
      "metadata": {
        "execution": {
          "iopub.execute_input": "2021-06-22T12:32:07.277480Z",
          "iopub.status.busy": "2021-06-22T12:32:07.276298Z",
          "iopub.status.idle": "2021-06-22T12:32:07.302233Z",
          "shell.execute_reply": "2021-06-22T12:32:07.302748Z",
          "shell.execute_reply.started": "2021-05-30T08:59:19.897311Z"
        },
        "papermill": {
          "duration": 0.083265,
          "end_time": "2021-06-22T12:32:07.302941",
          "exception": false,
          "start_time": "2021-06-22T12:32:07.219676",
          "status": "completed"
        },
        "tags": [],
        "colab": {
          "base_uri": "https://localhost:8080/",
          "height": 300
        },
        "id": "still-behavior",
        "outputId": "9d390d60-36ed-4e64-a436-7838856b3cf6"
      },
      "outputs": [
        {
          "output_type": "execute_result",
          "data": {
            "text/plain": [
              "               Id  SepalLengthCm  SepalWidthCm  PetalLengthCm  PetalWidthCm\n",
              "count  150.000000     150.000000    150.000000     150.000000    150.000000\n",
              "mean    75.500000       5.843333      3.054000       3.758667      1.198667\n",
              "std     43.445368       0.828066      0.433594       1.764420      0.763161\n",
              "min      1.000000       4.300000      2.000000       1.000000      0.100000\n",
              "25%     38.250000       5.100000      2.800000       1.600000      0.300000\n",
              "50%     75.500000       5.800000      3.000000       4.350000      1.300000\n",
              "75%    112.750000       6.400000      3.300000       5.100000      1.800000\n",
              "max    150.000000       7.900000      4.400000       6.900000      2.500000"
            ],
            "text/html": [
              "\n",
              "  <div id=\"df-20ad2f90-fe81-4fe2-a611-21212d4cfb3a\" class=\"colab-df-container\">\n",
              "    <div>\n",
              "<style scoped>\n",
              "    .dataframe tbody tr th:only-of-type {\n",
              "        vertical-align: middle;\n",
              "    }\n",
              "\n",
              "    .dataframe tbody tr th {\n",
              "        vertical-align: top;\n",
              "    }\n",
              "\n",
              "    .dataframe thead th {\n",
              "        text-align: right;\n",
              "    }\n",
              "</style>\n",
              "<table border=\"1\" class=\"dataframe\">\n",
              "  <thead>\n",
              "    <tr style=\"text-align: right;\">\n",
              "      <th></th>\n",
              "      <th>Id</th>\n",
              "      <th>SepalLengthCm</th>\n",
              "      <th>SepalWidthCm</th>\n",
              "      <th>PetalLengthCm</th>\n",
              "      <th>PetalWidthCm</th>\n",
              "    </tr>\n",
              "  </thead>\n",
              "  <tbody>\n",
              "    <tr>\n",
              "      <th>count</th>\n",
              "      <td>150.000000</td>\n",
              "      <td>150.000000</td>\n",
              "      <td>150.000000</td>\n",
              "      <td>150.000000</td>\n",
              "      <td>150.000000</td>\n",
              "    </tr>\n",
              "    <tr>\n",
              "      <th>mean</th>\n",
              "      <td>75.500000</td>\n",
              "      <td>5.843333</td>\n",
              "      <td>3.054000</td>\n",
              "      <td>3.758667</td>\n",
              "      <td>1.198667</td>\n",
              "    </tr>\n",
              "    <tr>\n",
              "      <th>std</th>\n",
              "      <td>43.445368</td>\n",
              "      <td>0.828066</td>\n",
              "      <td>0.433594</td>\n",
              "      <td>1.764420</td>\n",
              "      <td>0.763161</td>\n",
              "    </tr>\n",
              "    <tr>\n",
              "      <th>min</th>\n",
              "      <td>1.000000</td>\n",
              "      <td>4.300000</td>\n",
              "      <td>2.000000</td>\n",
              "      <td>1.000000</td>\n",
              "      <td>0.100000</td>\n",
              "    </tr>\n",
              "    <tr>\n",
              "      <th>25%</th>\n",
              "      <td>38.250000</td>\n",
              "      <td>5.100000</td>\n",
              "      <td>2.800000</td>\n",
              "      <td>1.600000</td>\n",
              "      <td>0.300000</td>\n",
              "    </tr>\n",
              "    <tr>\n",
              "      <th>50%</th>\n",
              "      <td>75.500000</td>\n",
              "      <td>5.800000</td>\n",
              "      <td>3.000000</td>\n",
              "      <td>4.350000</td>\n",
              "      <td>1.300000</td>\n",
              "    </tr>\n",
              "    <tr>\n",
              "      <th>75%</th>\n",
              "      <td>112.750000</td>\n",
              "      <td>6.400000</td>\n",
              "      <td>3.300000</td>\n",
              "      <td>5.100000</td>\n",
              "      <td>1.800000</td>\n",
              "    </tr>\n",
              "    <tr>\n",
              "      <th>max</th>\n",
              "      <td>150.000000</td>\n",
              "      <td>7.900000</td>\n",
              "      <td>4.400000</td>\n",
              "      <td>6.900000</td>\n",
              "      <td>2.500000</td>\n",
              "    </tr>\n",
              "  </tbody>\n",
              "</table>\n",
              "</div>\n",
              "    <div class=\"colab-df-buttons\">\n",
              "\n",
              "  <div class=\"colab-df-container\">\n",
              "    <button class=\"colab-df-convert\" onclick=\"convertToInteractive('df-20ad2f90-fe81-4fe2-a611-21212d4cfb3a')\"\n",
              "            title=\"Convert this dataframe to an interactive table.\"\n",
              "            style=\"display:none;\">\n",
              "\n",
              "  <svg xmlns=\"http://www.w3.org/2000/svg\" height=\"24px\" viewBox=\"0 -960 960 960\">\n",
              "    <path d=\"M120-120v-720h720v720H120Zm60-500h600v-160H180v160Zm220 220h160v-160H400v160Zm0 220h160v-160H400v160ZM180-400h160v-160H180v160Zm440 0h160v-160H620v160ZM180-180h160v-160H180v160Zm440 0h160v-160H620v160Z\"/>\n",
              "  </svg>\n",
              "    </button>\n",
              "\n",
              "  <style>\n",
              "    .colab-df-container {\n",
              "      display:flex;\n",
              "      gap: 12px;\n",
              "    }\n",
              "\n",
              "    .colab-df-convert {\n",
              "      background-color: #E8F0FE;\n",
              "      border: none;\n",
              "      border-radius: 50%;\n",
              "      cursor: pointer;\n",
              "      display: none;\n",
              "      fill: #1967D2;\n",
              "      height: 32px;\n",
              "      padding: 0 0 0 0;\n",
              "      width: 32px;\n",
              "    }\n",
              "\n",
              "    .colab-df-convert:hover {\n",
              "      background-color: #E2EBFA;\n",
              "      box-shadow: 0px 1px 2px rgba(60, 64, 67, 0.3), 0px 1px 3px 1px rgba(60, 64, 67, 0.15);\n",
              "      fill: #174EA6;\n",
              "    }\n",
              "\n",
              "    .colab-df-buttons div {\n",
              "      margin-bottom: 4px;\n",
              "    }\n",
              "\n",
              "    [theme=dark] .colab-df-convert {\n",
              "      background-color: #3B4455;\n",
              "      fill: #D2E3FC;\n",
              "    }\n",
              "\n",
              "    [theme=dark] .colab-df-convert:hover {\n",
              "      background-color: #434B5C;\n",
              "      box-shadow: 0px 1px 3px 1px rgba(0, 0, 0, 0.15);\n",
              "      filter: drop-shadow(0px 1px 2px rgba(0, 0, 0, 0.3));\n",
              "      fill: #FFFFFF;\n",
              "    }\n",
              "  </style>\n",
              "\n",
              "    <script>\n",
              "      const buttonEl =\n",
              "        document.querySelector('#df-20ad2f90-fe81-4fe2-a611-21212d4cfb3a button.colab-df-convert');\n",
              "      buttonEl.style.display =\n",
              "        google.colab.kernel.accessAllowed ? 'block' : 'none';\n",
              "\n",
              "      async function convertToInteractive(key) {\n",
              "        const element = document.querySelector('#df-20ad2f90-fe81-4fe2-a611-21212d4cfb3a');\n",
              "        const dataTable =\n",
              "          await google.colab.kernel.invokeFunction('convertToInteractive',\n",
              "                                                    [key], {});\n",
              "        if (!dataTable) return;\n",
              "\n",
              "        const docLinkHtml = 'Like what you see? Visit the ' +\n",
              "          '<a target=\"_blank\" href=https://colab.research.google.com/notebooks/data_table.ipynb>data table notebook</a>'\n",
              "          + ' to learn more about interactive tables.';\n",
              "        element.innerHTML = '';\n",
              "        dataTable['output_type'] = 'display_data';\n",
              "        await google.colab.output.renderOutput(dataTable, element);\n",
              "        const docLink = document.createElement('div');\n",
              "        docLink.innerHTML = docLinkHtml;\n",
              "        element.appendChild(docLink);\n",
              "      }\n",
              "    </script>\n",
              "  </div>\n",
              "\n",
              "\n",
              "<div id=\"df-8f250f58-f7d2-466c-8353-9dbd884ba909\">\n",
              "  <button class=\"colab-df-quickchart\" onclick=\"quickchart('df-8f250f58-f7d2-466c-8353-9dbd884ba909')\"\n",
              "            title=\"Suggest charts\"\n",
              "            style=\"display:none;\">\n",
              "\n",
              "<svg xmlns=\"http://www.w3.org/2000/svg\" height=\"24px\"viewBox=\"0 0 24 24\"\n",
              "     width=\"24px\">\n",
              "    <g>\n",
              "        <path d=\"M19 3H5c-1.1 0-2 .9-2 2v14c0 1.1.9 2 2 2h14c1.1 0 2-.9 2-2V5c0-1.1-.9-2-2-2zM9 17H7v-7h2v7zm4 0h-2V7h2v10zm4 0h-2v-4h2v4z\"/>\n",
              "    </g>\n",
              "</svg>\n",
              "  </button>\n",
              "\n",
              "<style>\n",
              "  .colab-df-quickchart {\n",
              "      --bg-color: #E8F0FE;\n",
              "      --fill-color: #1967D2;\n",
              "      --hover-bg-color: #E2EBFA;\n",
              "      --hover-fill-color: #174EA6;\n",
              "      --disabled-fill-color: #AAA;\n",
              "      --disabled-bg-color: #DDD;\n",
              "  }\n",
              "\n",
              "  [theme=dark] .colab-df-quickchart {\n",
              "      --bg-color: #3B4455;\n",
              "      --fill-color: #D2E3FC;\n",
              "      --hover-bg-color: #434B5C;\n",
              "      --hover-fill-color: #FFFFFF;\n",
              "      --disabled-bg-color: #3B4455;\n",
              "      --disabled-fill-color: #666;\n",
              "  }\n",
              "\n",
              "  .colab-df-quickchart {\n",
              "    background-color: var(--bg-color);\n",
              "    border: none;\n",
              "    border-radius: 50%;\n",
              "    cursor: pointer;\n",
              "    display: none;\n",
              "    fill: var(--fill-color);\n",
              "    height: 32px;\n",
              "    padding: 0;\n",
              "    width: 32px;\n",
              "  }\n",
              "\n",
              "  .colab-df-quickchart:hover {\n",
              "    background-color: var(--hover-bg-color);\n",
              "    box-shadow: 0 1px 2px rgba(60, 64, 67, 0.3), 0 1px 3px 1px rgba(60, 64, 67, 0.15);\n",
              "    fill: var(--button-hover-fill-color);\n",
              "  }\n",
              "\n",
              "  .colab-df-quickchart-complete:disabled,\n",
              "  .colab-df-quickchart-complete:disabled:hover {\n",
              "    background-color: var(--disabled-bg-color);\n",
              "    fill: var(--disabled-fill-color);\n",
              "    box-shadow: none;\n",
              "  }\n",
              "\n",
              "  .colab-df-spinner {\n",
              "    border: 2px solid var(--fill-color);\n",
              "    border-color: transparent;\n",
              "    border-bottom-color: var(--fill-color);\n",
              "    animation:\n",
              "      spin 1s steps(1) infinite;\n",
              "  }\n",
              "\n",
              "  @keyframes spin {\n",
              "    0% {\n",
              "      border-color: transparent;\n",
              "      border-bottom-color: var(--fill-color);\n",
              "      border-left-color: var(--fill-color);\n",
              "    }\n",
              "    20% {\n",
              "      border-color: transparent;\n",
              "      border-left-color: var(--fill-color);\n",
              "      border-top-color: var(--fill-color);\n",
              "    }\n",
              "    30% {\n",
              "      border-color: transparent;\n",
              "      border-left-color: var(--fill-color);\n",
              "      border-top-color: var(--fill-color);\n",
              "      border-right-color: var(--fill-color);\n",
              "    }\n",
              "    40% {\n",
              "      border-color: transparent;\n",
              "      border-right-color: var(--fill-color);\n",
              "      border-top-color: var(--fill-color);\n",
              "    }\n",
              "    60% {\n",
              "      border-color: transparent;\n",
              "      border-right-color: var(--fill-color);\n",
              "    }\n",
              "    80% {\n",
              "      border-color: transparent;\n",
              "      border-right-color: var(--fill-color);\n",
              "      border-bottom-color: var(--fill-color);\n",
              "    }\n",
              "    90% {\n",
              "      border-color: transparent;\n",
              "      border-bottom-color: var(--fill-color);\n",
              "    }\n",
              "  }\n",
              "</style>\n",
              "\n",
              "  <script>\n",
              "    async function quickchart(key) {\n",
              "      const quickchartButtonEl =\n",
              "        document.querySelector('#' + key + ' button');\n",
              "      quickchartButtonEl.disabled = true;  // To prevent multiple clicks.\n",
              "      quickchartButtonEl.classList.add('colab-df-spinner');\n",
              "      try {\n",
              "        const charts = await google.colab.kernel.invokeFunction(\n",
              "            'suggestCharts', [key], {});\n",
              "      } catch (error) {\n",
              "        console.error('Error during call to suggestCharts:', error);\n",
              "      }\n",
              "      quickchartButtonEl.classList.remove('colab-df-spinner');\n",
              "      quickchartButtonEl.classList.add('colab-df-quickchart-complete');\n",
              "    }\n",
              "    (() => {\n",
              "      let quickchartButtonEl =\n",
              "        document.querySelector('#df-8f250f58-f7d2-466c-8353-9dbd884ba909 button');\n",
              "      quickchartButtonEl.style.display =\n",
              "        google.colab.kernel.accessAllowed ? 'block' : 'none';\n",
              "    })();\n",
              "  </script>\n",
              "</div>\n",
              "\n",
              "    </div>\n",
              "  </div>\n"
            ],
            "application/vnd.google.colaboratory.intrinsic+json": {
              "type": "dataframe",
              "summary": "{\n  \"name\": \"df\",\n  \"rows\": 8,\n  \"fields\": [\n    {\n      \"column\": \"Id\",\n      \"properties\": {\n        \"dtype\": \"number\",\n        \"std\": 53.756293020494844,\n        \"min\": 1.0,\n        \"max\": 150.0,\n        \"num_unique_values\": 6,\n        \"samples\": [\n          150.0,\n          75.5,\n          112.75\n        ],\n        \"semantic_type\": \"\",\n        \"description\": \"\"\n      }\n    },\n    {\n      \"column\": \"SepalLengthCm\",\n      \"properties\": {\n        \"dtype\": \"number\",\n        \"std\": 51.24711349471842,\n        \"min\": 0.828066127977863,\n        \"max\": 150.0,\n        \"num_unique_values\": 8,\n        \"samples\": [\n          5.843333333333334,\n          5.8,\n          150.0\n        ],\n        \"semantic_type\": \"\",\n        \"description\": \"\"\n      }\n    },\n    {\n      \"column\": \"SepalWidthCm\",\n      \"properties\": {\n        \"dtype\": \"number\",\n        \"std\": 52.08647211421483,\n        \"min\": 0.4335943113621737,\n        \"max\": 150.0,\n        \"num_unique_values\": 8,\n        \"samples\": [\n          3.0540000000000003,\n          3.0,\n          150.0\n        ],\n        \"semantic_type\": \"\",\n        \"description\": \"\"\n      }\n    },\n    {\n      \"column\": \"PetalLengthCm\",\n      \"properties\": {\n        \"dtype\": \"number\",\n        \"std\": 51.835227940958106,\n        \"min\": 1.0,\n        \"max\": 150.0,\n        \"num_unique_values\": 8,\n        \"samples\": [\n          3.758666666666666,\n          4.35,\n          150.0\n        ],\n        \"semantic_type\": \"\",\n        \"description\": \"\"\n      }\n    },\n    {\n      \"column\": \"PetalWidthCm\",\n      \"properties\": {\n        \"dtype\": \"number\",\n        \"std\": 52.636634243409915,\n        \"min\": 0.1,\n        \"max\": 150.0,\n        \"num_unique_values\": 8,\n        \"samples\": [\n          1.1986666666666668,\n          1.3,\n          150.0\n        ],\n        \"semantic_type\": \"\",\n        \"description\": \"\"\n      }\n    }\n  ]\n}"
            }
          },
          "metadata": {},
          "execution_count": 4
        }
      ],
      "source": [
        "df.describe()"
      ]
    },
    {
      "cell_type": "code",
      "execution_count": 5,
      "id": "systematic-fancy",
      "metadata": {
        "execution": {
          "iopub.execute_input": "2021-06-22T12:32:07.385048Z",
          "iopub.status.busy": "2021-06-22T12:32:07.384307Z",
          "iopub.status.idle": "2021-06-22T12:32:07.389489Z",
          "shell.execute_reply": "2021-06-22T12:32:07.389959Z",
          "shell.execute_reply.started": "2021-05-30T08:59:19.93173Z"
        },
        "papermill": {
          "duration": 0.044312,
          "end_time": "2021-06-22T12:32:07.390122",
          "exception": false,
          "start_time": "2021-06-22T12:32:07.345810",
          "status": "completed"
        },
        "tags": [],
        "colab": {
          "base_uri": "https://localhost:8080/"
        },
        "id": "systematic-fancy",
        "outputId": "b728495f-8043-4aba-8e63-9c6f53e445e7"
      },
      "outputs": [
        {
          "output_type": "execute_result",
          "data": {
            "text/plain": [
              "(150, 6)"
            ]
          },
          "metadata": {},
          "execution_count": 5
        }
      ],
      "source": [
        "df.shape"
      ]
    },
    {
      "cell_type": "code",
      "execution_count": 6,
      "id": "organic-possibility",
      "metadata": {
        "execution": {
          "iopub.execute_input": "2021-06-22T12:32:07.536789Z",
          "iopub.status.busy": "2021-06-22T12:32:07.535845Z",
          "iopub.status.idle": "2021-06-22T12:32:07.540688Z",
          "shell.execute_reply": "2021-06-22T12:32:07.541126Z",
          "shell.execute_reply.started": "2021-05-30T08:59:19.985512Z"
        },
        "papermill": {
          "duration": 0.043647,
          "end_time": "2021-06-22T12:32:07.541292",
          "exception": false,
          "start_time": "2021-06-22T12:32:07.497645",
          "status": "completed"
        },
        "tags": [],
        "id": "organic-possibility"
      },
      "outputs": [],
      "source": [
        "df.drop('Id',axis=1,inplace=True)"
      ]
    },
    {
      "cell_type": "code",
      "execution_count": 7,
      "id": "ranging-empty",
      "metadata": {
        "execution": {
          "iopub.execute_input": "2021-06-22T12:32:07.616642Z",
          "iopub.status.busy": "2021-06-22T12:32:07.615686Z",
          "iopub.status.idle": "2021-06-22T12:32:07.630611Z",
          "shell.execute_reply": "2021-06-22T12:32:07.630004Z",
          "shell.execute_reply.started": "2021-05-30T08:59:19.994611Z"
        },
        "papermill": {
          "duration": 0.053711,
          "end_time": "2021-06-22T12:32:07.630752",
          "exception": false,
          "start_time": "2021-06-22T12:32:07.577041",
          "status": "completed"
        },
        "tags": [],
        "colab": {
          "base_uri": "https://localhost:8080/",
          "height": 206
        },
        "id": "ranging-empty",
        "outputId": "87105aef-5349-4e34-f6a0-7713cbfa02eb"
      },
      "outputs": [
        {
          "output_type": "execute_result",
          "data": {
            "text/plain": [
              "   SepalLengthCm  SepalWidthCm  PetalLengthCm  PetalWidthCm      Species\n",
              "0            5.1           3.5            1.4           0.2  Iris-setosa\n",
              "1            4.9           3.0            1.4           0.2  Iris-setosa\n",
              "2            4.7           3.2            1.3           0.2  Iris-setosa\n",
              "3            4.6           3.1            1.5           0.2  Iris-setosa\n",
              "4            5.0           3.6            1.4           0.2  Iris-setosa"
            ],
            "text/html": [
              "\n",
              "  <div id=\"df-0e48deaf-64a2-4951-801e-8b2e6791c2b2\" class=\"colab-df-container\">\n",
              "    <div>\n",
              "<style scoped>\n",
              "    .dataframe tbody tr th:only-of-type {\n",
              "        vertical-align: middle;\n",
              "    }\n",
              "\n",
              "    .dataframe tbody tr th {\n",
              "        vertical-align: top;\n",
              "    }\n",
              "\n",
              "    .dataframe thead th {\n",
              "        text-align: right;\n",
              "    }\n",
              "</style>\n",
              "<table border=\"1\" class=\"dataframe\">\n",
              "  <thead>\n",
              "    <tr style=\"text-align: right;\">\n",
              "      <th></th>\n",
              "      <th>SepalLengthCm</th>\n",
              "      <th>SepalWidthCm</th>\n",
              "      <th>PetalLengthCm</th>\n",
              "      <th>PetalWidthCm</th>\n",
              "      <th>Species</th>\n",
              "    </tr>\n",
              "  </thead>\n",
              "  <tbody>\n",
              "    <tr>\n",
              "      <th>0</th>\n",
              "      <td>5.1</td>\n",
              "      <td>3.5</td>\n",
              "      <td>1.4</td>\n",
              "      <td>0.2</td>\n",
              "      <td>Iris-setosa</td>\n",
              "    </tr>\n",
              "    <tr>\n",
              "      <th>1</th>\n",
              "      <td>4.9</td>\n",
              "      <td>3.0</td>\n",
              "      <td>1.4</td>\n",
              "      <td>0.2</td>\n",
              "      <td>Iris-setosa</td>\n",
              "    </tr>\n",
              "    <tr>\n",
              "      <th>2</th>\n",
              "      <td>4.7</td>\n",
              "      <td>3.2</td>\n",
              "      <td>1.3</td>\n",
              "      <td>0.2</td>\n",
              "      <td>Iris-setosa</td>\n",
              "    </tr>\n",
              "    <tr>\n",
              "      <th>3</th>\n",
              "      <td>4.6</td>\n",
              "      <td>3.1</td>\n",
              "      <td>1.5</td>\n",
              "      <td>0.2</td>\n",
              "      <td>Iris-setosa</td>\n",
              "    </tr>\n",
              "    <tr>\n",
              "      <th>4</th>\n",
              "      <td>5.0</td>\n",
              "      <td>3.6</td>\n",
              "      <td>1.4</td>\n",
              "      <td>0.2</td>\n",
              "      <td>Iris-setosa</td>\n",
              "    </tr>\n",
              "  </tbody>\n",
              "</table>\n",
              "</div>\n",
              "    <div class=\"colab-df-buttons\">\n",
              "\n",
              "  <div class=\"colab-df-container\">\n",
              "    <button class=\"colab-df-convert\" onclick=\"convertToInteractive('df-0e48deaf-64a2-4951-801e-8b2e6791c2b2')\"\n",
              "            title=\"Convert this dataframe to an interactive table.\"\n",
              "            style=\"display:none;\">\n",
              "\n",
              "  <svg xmlns=\"http://www.w3.org/2000/svg\" height=\"24px\" viewBox=\"0 -960 960 960\">\n",
              "    <path d=\"M120-120v-720h720v720H120Zm60-500h600v-160H180v160Zm220 220h160v-160H400v160Zm0 220h160v-160H400v160ZM180-400h160v-160H180v160Zm440 0h160v-160H620v160ZM180-180h160v-160H180v160Zm440 0h160v-160H620v160Z\"/>\n",
              "  </svg>\n",
              "    </button>\n",
              "\n",
              "  <style>\n",
              "    .colab-df-container {\n",
              "      display:flex;\n",
              "      gap: 12px;\n",
              "    }\n",
              "\n",
              "    .colab-df-convert {\n",
              "      background-color: #E8F0FE;\n",
              "      border: none;\n",
              "      border-radius: 50%;\n",
              "      cursor: pointer;\n",
              "      display: none;\n",
              "      fill: #1967D2;\n",
              "      height: 32px;\n",
              "      padding: 0 0 0 0;\n",
              "      width: 32px;\n",
              "    }\n",
              "\n",
              "    .colab-df-convert:hover {\n",
              "      background-color: #E2EBFA;\n",
              "      box-shadow: 0px 1px 2px rgba(60, 64, 67, 0.3), 0px 1px 3px 1px rgba(60, 64, 67, 0.15);\n",
              "      fill: #174EA6;\n",
              "    }\n",
              "\n",
              "    .colab-df-buttons div {\n",
              "      margin-bottom: 4px;\n",
              "    }\n",
              "\n",
              "    [theme=dark] .colab-df-convert {\n",
              "      background-color: #3B4455;\n",
              "      fill: #D2E3FC;\n",
              "    }\n",
              "\n",
              "    [theme=dark] .colab-df-convert:hover {\n",
              "      background-color: #434B5C;\n",
              "      box-shadow: 0px 1px 3px 1px rgba(0, 0, 0, 0.15);\n",
              "      filter: drop-shadow(0px 1px 2px rgba(0, 0, 0, 0.3));\n",
              "      fill: #FFFFFF;\n",
              "    }\n",
              "  </style>\n",
              "\n",
              "    <script>\n",
              "      const buttonEl =\n",
              "        document.querySelector('#df-0e48deaf-64a2-4951-801e-8b2e6791c2b2 button.colab-df-convert');\n",
              "      buttonEl.style.display =\n",
              "        google.colab.kernel.accessAllowed ? 'block' : 'none';\n",
              "\n",
              "      async function convertToInteractive(key) {\n",
              "        const element = document.querySelector('#df-0e48deaf-64a2-4951-801e-8b2e6791c2b2');\n",
              "        const dataTable =\n",
              "          await google.colab.kernel.invokeFunction('convertToInteractive',\n",
              "                                                    [key], {});\n",
              "        if (!dataTable) return;\n",
              "\n",
              "        const docLinkHtml = 'Like what you see? Visit the ' +\n",
              "          '<a target=\"_blank\" href=https://colab.research.google.com/notebooks/data_table.ipynb>data table notebook</a>'\n",
              "          + ' to learn more about interactive tables.';\n",
              "        element.innerHTML = '';\n",
              "        dataTable['output_type'] = 'display_data';\n",
              "        await google.colab.output.renderOutput(dataTable, element);\n",
              "        const docLink = document.createElement('div');\n",
              "        docLink.innerHTML = docLinkHtml;\n",
              "        element.appendChild(docLink);\n",
              "      }\n",
              "    </script>\n",
              "  </div>\n",
              "\n",
              "\n",
              "<div id=\"df-85a224d0-0218-45e6-a65c-2c02bc0e6953\">\n",
              "  <button class=\"colab-df-quickchart\" onclick=\"quickchart('df-85a224d0-0218-45e6-a65c-2c02bc0e6953')\"\n",
              "            title=\"Suggest charts\"\n",
              "            style=\"display:none;\">\n",
              "\n",
              "<svg xmlns=\"http://www.w3.org/2000/svg\" height=\"24px\"viewBox=\"0 0 24 24\"\n",
              "     width=\"24px\">\n",
              "    <g>\n",
              "        <path d=\"M19 3H5c-1.1 0-2 .9-2 2v14c0 1.1.9 2 2 2h14c1.1 0 2-.9 2-2V5c0-1.1-.9-2-2-2zM9 17H7v-7h2v7zm4 0h-2V7h2v10zm4 0h-2v-4h2v4z\"/>\n",
              "    </g>\n",
              "</svg>\n",
              "  </button>\n",
              "\n",
              "<style>\n",
              "  .colab-df-quickchart {\n",
              "      --bg-color: #E8F0FE;\n",
              "      --fill-color: #1967D2;\n",
              "      --hover-bg-color: #E2EBFA;\n",
              "      --hover-fill-color: #174EA6;\n",
              "      --disabled-fill-color: #AAA;\n",
              "      --disabled-bg-color: #DDD;\n",
              "  }\n",
              "\n",
              "  [theme=dark] .colab-df-quickchart {\n",
              "      --bg-color: #3B4455;\n",
              "      --fill-color: #D2E3FC;\n",
              "      --hover-bg-color: #434B5C;\n",
              "      --hover-fill-color: #FFFFFF;\n",
              "      --disabled-bg-color: #3B4455;\n",
              "      --disabled-fill-color: #666;\n",
              "  }\n",
              "\n",
              "  .colab-df-quickchart {\n",
              "    background-color: var(--bg-color);\n",
              "    border: none;\n",
              "    border-radius: 50%;\n",
              "    cursor: pointer;\n",
              "    display: none;\n",
              "    fill: var(--fill-color);\n",
              "    height: 32px;\n",
              "    padding: 0;\n",
              "    width: 32px;\n",
              "  }\n",
              "\n",
              "  .colab-df-quickchart:hover {\n",
              "    background-color: var(--hover-bg-color);\n",
              "    box-shadow: 0 1px 2px rgba(60, 64, 67, 0.3), 0 1px 3px 1px rgba(60, 64, 67, 0.15);\n",
              "    fill: var(--button-hover-fill-color);\n",
              "  }\n",
              "\n",
              "  .colab-df-quickchart-complete:disabled,\n",
              "  .colab-df-quickchart-complete:disabled:hover {\n",
              "    background-color: var(--disabled-bg-color);\n",
              "    fill: var(--disabled-fill-color);\n",
              "    box-shadow: none;\n",
              "  }\n",
              "\n",
              "  .colab-df-spinner {\n",
              "    border: 2px solid var(--fill-color);\n",
              "    border-color: transparent;\n",
              "    border-bottom-color: var(--fill-color);\n",
              "    animation:\n",
              "      spin 1s steps(1) infinite;\n",
              "  }\n",
              "\n",
              "  @keyframes spin {\n",
              "    0% {\n",
              "      border-color: transparent;\n",
              "      border-bottom-color: var(--fill-color);\n",
              "      border-left-color: var(--fill-color);\n",
              "    }\n",
              "    20% {\n",
              "      border-color: transparent;\n",
              "      border-left-color: var(--fill-color);\n",
              "      border-top-color: var(--fill-color);\n",
              "    }\n",
              "    30% {\n",
              "      border-color: transparent;\n",
              "      border-left-color: var(--fill-color);\n",
              "      border-top-color: var(--fill-color);\n",
              "      border-right-color: var(--fill-color);\n",
              "    }\n",
              "    40% {\n",
              "      border-color: transparent;\n",
              "      border-right-color: var(--fill-color);\n",
              "      border-top-color: var(--fill-color);\n",
              "    }\n",
              "    60% {\n",
              "      border-color: transparent;\n",
              "      border-right-color: var(--fill-color);\n",
              "    }\n",
              "    80% {\n",
              "      border-color: transparent;\n",
              "      border-right-color: var(--fill-color);\n",
              "      border-bottom-color: var(--fill-color);\n",
              "    }\n",
              "    90% {\n",
              "      border-color: transparent;\n",
              "      border-bottom-color: var(--fill-color);\n",
              "    }\n",
              "  }\n",
              "</style>\n",
              "\n",
              "  <script>\n",
              "    async function quickchart(key) {\n",
              "      const quickchartButtonEl =\n",
              "        document.querySelector('#' + key + ' button');\n",
              "      quickchartButtonEl.disabled = true;  // To prevent multiple clicks.\n",
              "      quickchartButtonEl.classList.add('colab-df-spinner');\n",
              "      try {\n",
              "        const charts = await google.colab.kernel.invokeFunction(\n",
              "            'suggestCharts', [key], {});\n",
              "      } catch (error) {\n",
              "        console.error('Error during call to suggestCharts:', error);\n",
              "      }\n",
              "      quickchartButtonEl.classList.remove('colab-df-spinner');\n",
              "      quickchartButtonEl.classList.add('colab-df-quickchart-complete');\n",
              "    }\n",
              "    (() => {\n",
              "      let quickchartButtonEl =\n",
              "        document.querySelector('#df-85a224d0-0218-45e6-a65c-2c02bc0e6953 button');\n",
              "      quickchartButtonEl.style.display =\n",
              "        google.colab.kernel.accessAllowed ? 'block' : 'none';\n",
              "    })();\n",
              "  </script>\n",
              "</div>\n",
              "\n",
              "    </div>\n",
              "  </div>\n"
            ],
            "application/vnd.google.colaboratory.intrinsic+json": {
              "type": "dataframe",
              "variable_name": "df",
              "summary": "{\n  \"name\": \"df\",\n  \"rows\": 150,\n  \"fields\": [\n    {\n      \"column\": \"SepalLengthCm\",\n      \"properties\": {\n        \"dtype\": \"number\",\n        \"std\": 0.828066127977863,\n        \"min\": 4.3,\n        \"max\": 7.9,\n        \"num_unique_values\": 35,\n        \"samples\": [\n          6.2,\n          4.5,\n          5.6\n        ],\n        \"semantic_type\": \"\",\n        \"description\": \"\"\n      }\n    },\n    {\n      \"column\": \"SepalWidthCm\",\n      \"properties\": {\n        \"dtype\": \"number\",\n        \"std\": 0.4335943113621737,\n        \"min\": 2.0,\n        \"max\": 4.4,\n        \"num_unique_values\": 23,\n        \"samples\": [\n          2.3,\n          4.0,\n          3.5\n        ],\n        \"semantic_type\": \"\",\n        \"description\": \"\"\n      }\n    },\n    {\n      \"column\": \"PetalLengthCm\",\n      \"properties\": {\n        \"dtype\": \"number\",\n        \"std\": 1.7644204199522626,\n        \"min\": 1.0,\n        \"max\": 6.9,\n        \"num_unique_values\": 43,\n        \"samples\": [\n          6.7,\n          3.8,\n          3.7\n        ],\n        \"semantic_type\": \"\",\n        \"description\": \"\"\n      }\n    },\n    {\n      \"column\": \"PetalWidthCm\",\n      \"properties\": {\n        \"dtype\": \"number\",\n        \"std\": 0.7631607417008411,\n        \"min\": 0.1,\n        \"max\": 2.5,\n        \"num_unique_values\": 22,\n        \"samples\": [\n          0.2,\n          1.2,\n          1.3\n        ],\n        \"semantic_type\": \"\",\n        \"description\": \"\"\n      }\n    },\n    {\n      \"column\": \"Species\",\n      \"properties\": {\n        \"dtype\": \"category\",\n        \"num_unique_values\": 3,\n        \"samples\": [\n          \"Iris-setosa\",\n          \"Iris-versicolor\",\n          \"Iris-virginica\"\n        ],\n        \"semantic_type\": \"\",\n        \"description\": \"\"\n      }\n    }\n  ]\n}"
            }
          },
          "metadata": {},
          "execution_count": 7
        }
      ],
      "source": [
        "df.head()"
      ]
    },
    {
      "cell_type": "code",
      "execution_count": 8,
      "id": "forward-croatia",
      "metadata": {
        "execution": {
          "iopub.execute_input": "2021-06-22T12:32:07.710262Z",
          "iopub.status.busy": "2021-06-22T12:32:07.709615Z",
          "iopub.status.idle": "2021-06-22T12:32:07.713084Z",
          "shell.execute_reply": "2021-06-22T12:32:07.712502Z",
          "shell.execute_reply.started": "2021-05-30T08:59:20.079474Z"
        },
        "papermill": {
          "duration": 0.046304,
          "end_time": "2021-06-22T12:32:07.713210",
          "exception": false,
          "start_time": "2021-06-22T12:32:07.666906",
          "status": "completed"
        },
        "tags": [],
        "colab": {
          "base_uri": "https://localhost:8080/"
        },
        "id": "forward-croatia",
        "outputId": "7955ca36-58c8-4b73-c1e9-3aedbf3c0621"
      },
      "outputs": [
        {
          "output_type": "execute_result",
          "data": {
            "text/plain": [
              "Species\n",
              "Iris-setosa        50\n",
              "Iris-versicolor    50\n",
              "Iris-virginica     50\n",
              "Name: count, dtype: int64"
            ]
          },
          "metadata": {},
          "execution_count": 8
        }
      ],
      "source": [
        "df['Species'].value_counts()"
      ]
    },
    {
      "cell_type": "code",
      "execution_count": 9,
      "id": "victorian-fight",
      "metadata": {
        "execution": {
          "iopub.execute_input": "2021-06-22T12:32:07.789609Z",
          "iopub.status.busy": "2021-06-22T12:32:07.788968Z",
          "iopub.status.idle": "2021-06-22T12:32:07.795648Z",
          "shell.execute_reply": "2021-06-22T12:32:07.796111Z",
          "shell.execute_reply.started": "2021-05-30T08:59:20.091479Z"
        },
        "papermill": {
          "duration": 0.046828,
          "end_time": "2021-06-22T12:32:07.796295",
          "exception": false,
          "start_time": "2021-06-22T12:32:07.749467",
          "status": "completed"
        },
        "tags": [],
        "colab": {
          "base_uri": "https://localhost:8080/"
        },
        "id": "victorian-fight",
        "outputId": "9e5ed874-d7e5-4562-af8e-e271a70a577f"
      },
      "outputs": [
        {
          "output_type": "execute_result",
          "data": {
            "text/plain": [
              "SepalLengthCm    0\n",
              "SepalWidthCm     0\n",
              "PetalLengthCm    0\n",
              "PetalWidthCm     0\n",
              "Species          0\n",
              "dtype: int64"
            ]
          },
          "metadata": {},
          "execution_count": 9
        }
      ],
      "source": [
        "df.isnull().sum()"
      ]
    },
    {
      "cell_type": "code",
      "execution_count": 11,
      "id": "seasonal-ambassador",
      "metadata": {
        "execution": {
          "iopub.execute_input": "2021-06-22T12:32:08.678327Z",
          "iopub.status.busy": "2021-06-22T12:32:08.677678Z",
          "iopub.status.idle": "2021-06-22T12:32:08.680321Z",
          "shell.execute_reply": "2021-06-22T12:32:08.680775Z",
          "shell.execute_reply.started": "2021-05-30T08:59:20.817928Z"
        },
        "papermill": {
          "duration": 0.049155,
          "end_time": "2021-06-22T12:32:08.680941",
          "exception": false,
          "start_time": "2021-06-22T12:32:08.631786",
          "status": "completed"
        },
        "tags": [],
        "id": "seasonal-ambassador"
      },
      "outputs": [],
      "source": [
        "df.drop_duplicates(inplace=True)"
      ]
    },
    {
      "cell_type": "code",
      "execution_count": 12,
      "id": "critical-stuff",
      "metadata": {
        "execution": {
          "iopub.execute_input": "2021-06-22T12:32:08.926165Z",
          "iopub.status.busy": "2021-06-22T12:32:08.925562Z",
          "iopub.status.idle": "2021-06-22T12:32:09.105851Z",
          "shell.execute_reply": "2021-06-22T12:32:09.106380Z",
          "shell.execute_reply.started": "2021-05-30T08:59:20.825967Z"
        },
        "papermill": {
          "duration": 0.230789,
          "end_time": "2021-06-22T12:32:09.106548",
          "exception": false,
          "start_time": "2021-06-22T12:32:08.875759",
          "status": "completed"
        },
        "tags": [],
        "colab": {
          "base_uri": "https://localhost:8080/",
          "height": 648
        },
        "id": "critical-stuff",
        "outputId": "702a2272-6e52-4087-c4a1-8f4b682f8b96"
      },
      "outputs": [
        {
          "output_type": "execute_result",
          "data": {
            "text/plain": [
              "<Axes: xlabel='Species', ylabel='SepalLengthCm'>"
            ]
          },
          "metadata": {},
          "execution_count": 12
        },
        {
          "output_type": "display_data",
          "data": {
            "text/plain": [
              "<Figure size 1500x800 with 1 Axes>"
            ],
            "image/png": "[encoded data removed]"
          },
          "metadata": {}
        }
      ],
      "source": [
        "plt.figure(figsize=(15,8))\n",
        "sns.boxplot(x='Species',y='SepalLengthCm',data=df.sort_values('SepalLengthCm',ascending=False))"
      ]
    },
    {
      "cell_type": "code",
      "execution_count": 13,
      "id": "pending-batch",
      "metadata": {
        "execution": {
          "iopub.execute_input": "2021-06-22T12:32:09.268104Z",
          "iopub.status.busy": "2021-06-22T12:32:09.267505Z",
          "iopub.status.idle": "2021-06-22T12:32:09.433790Z",
          "shell.execute_reply": "2021-06-22T12:32:09.434223Z",
          "shell.execute_reply.started": "2021-05-30T08:59:21.026476Z"
        },
        "papermill": {
          "duration": 0.208554,
          "end_time": "2021-06-22T12:32:09.434427",
          "exception": false,
          "start_time": "2021-06-22T12:32:09.225873",
          "status": "completed"
        },
        "tags": [],
        "colab": {
          "base_uri": "https://localhost:8080/",
          "height": 467
        },
        "id": "pending-batch",
        "outputId": "f0c71db3-337f-4380-a9b4-d9f6f5ab4252"
      },
      "outputs": [
        {
          "output_type": "execute_result",
          "data": {
            "text/plain": [
              "<Axes: xlabel='SepalWidthCm', ylabel='SepalLengthCm'>"
            ]
          },
          "metadata": {},
          "execution_count": 13
        },
        {
          "output_type": "display_data",
          "data": {
            "text/plain": [
              "<Figure size 640x480 with 1 Axes>"
            ],
            "image/png": "[encoded data removed]"
          },
          "metadata": {}
        }
      ],
      "source": [
        "df.plot(kind='scatter',x='SepalWidthCm',y='SepalLengthCm')"
      ]
    },
    {
      "cell_type": "code",
      "execution_count": 14,
      "id": "legislative-newton",
      "metadata": {
        "execution": {
          "iopub.execute_input": "2021-06-22T12:32:09.599791Z",
          "iopub.status.busy": "2021-06-22T12:32:09.599152Z",
          "iopub.status.idle": "2021-06-22T12:32:10.190068Z",
          "shell.execute_reply": "2021-06-22T12:32:10.189561Z",
          "shell.execute_reply.started": "2021-05-30T08:59:21.197857Z"
        },
        "papermill": {
          "duration": 0.633996,
          "end_time": "2021-06-22T12:32:10.190195",
          "exception": false,
          "start_time": "2021-06-22T12:32:09.556199",
          "status": "completed"
        },
        "tags": [],
        "colab": {
          "base_uri": "https://localhost:8080/",
          "height": 625
        },
        "id": "legislative-newton",
        "outputId": "b2f2b414-ed17-4984-a223-2e5b431a55c1"
      },
      "outputs": [
        {
          "output_type": "execute_result",
          "data": {
            "text/plain": [
              "<seaborn.axisgrid.JointGrid at 0x7aace30ffee0>"
            ]
          },
          "metadata": {},
          "execution_count": 14
        },
        {
          "output_type": "display_data",
          "data": {
            "text/plain": [
              "<Figure size 600x600 with 3 Axes>"
            ],
            "image/png": "[encoded data removed]"
          },
          "metadata": {}
        }
      ],
      "source": [
        "sns.jointplot(x=\"SepalLengthCm\", y=\"SepalWidthCm\", data=df, size=5)"
      ]
    },
    {
      "cell_type": "code",
      "execution_count": 19,
      "id": "sharing-center",
      "metadata": {
        "execution": {
          "iopub.execute_input": "2021-06-22T12:32:18.350217Z",
          "iopub.status.busy": "2021-06-22T12:32:18.349534Z",
          "iopub.status.idle": "2021-06-22T12:32:18.351619Z",
          "shell.execute_reply": "2021-06-22T12:32:18.352082Z",
          "shell.execute_reply.started": "2021-05-30T08:59:29.3006Z"
        },
        "papermill": {
          "duration": 0.076515,
          "end_time": "2021-06-22T12:32:18.352244",
          "exception": false,
          "start_time": "2021-06-22T12:32:18.275729",
          "status": "completed"
        },
        "tags": [],
        "id": "sharing-center"
      },
      "outputs": [],
      "source": [
        "X=df.drop('Species',axis=1)\n",
        "y=df['Species']"
      ]
    },
    {
      "cell_type": "code",
      "execution_count": 20,
      "id": "adult-internship",
      "metadata": {
        "execution": {
          "iopub.execute_input": "2021-06-22T12:32:18.466181Z",
          "iopub.status.busy": "2021-06-22T12:32:18.465597Z",
          "iopub.status.idle": "2021-06-22T12:32:23.896863Z",
          "shell.execute_reply": "2021-06-22T12:32:23.896181Z",
          "shell.execute_reply.started": "2021-05-30T08:59:29.309417Z"
        },
        "papermill": {
          "duration": 5.489168,
          "end_time": "2021-06-22T12:32:23.897005",
          "exception": false,
          "start_time": "2021-06-22T12:32:18.407837",
          "status": "completed"
        },
        "tags": [],
        "id": "adult-internship"
      },
      "outputs": [],
      "source": [
        "from keras.models import Sequential\n",
        "from keras.layers import Dense\n",
        "from keras.utils import to_categorical"
      ]
    },
    {
      "cell_type": "code",
      "execution_count": 21,
      "id": "filled-absolute",
      "metadata": {
        "execution": {
          "iopub.execute_input": "2021-06-22T12:32:24.015062Z",
          "iopub.status.busy": "2021-06-22T12:32:24.014131Z",
          "iopub.status.idle": "2021-06-22T12:32:24.017073Z",
          "shell.execute_reply": "2021-06-22T12:32:24.016562Z",
          "shell.execute_reply.started": "2021-05-30T08:59:29.324254Z"
        },
        "papermill": {
          "duration": 0.065053,
          "end_time": "2021-06-22T12:32:24.017209",
          "exception": false,
          "start_time": "2021-06-22T12:32:23.952156",
          "status": "completed"
        },
        "tags": [],
        "id": "filled-absolute"
      },
      "outputs": [],
      "source": [
        "df['Species'] = pd.Categorical(df.Species)\n",
        "df['Species'] = df.Species.cat.codes\n",
        "y = to_categorical(df.Species)\n"
      ]
    },
    {
      "cell_type": "code",
      "execution_count": 22,
      "id": "changing-details",
      "metadata": {
        "execution": {
          "iopub.execute_input": "2021-06-22T12:32:24.129906Z",
          "iopub.status.busy": "2021-06-22T12:32:24.129323Z",
          "iopub.status.idle": "2021-06-22T12:32:24.312640Z",
          "shell.execute_reply": "2021-06-22T12:32:24.312020Z",
          "shell.execute_reply.started": "2021-05-30T08:59:29.340303Z"
        },
        "papermill": {
          "duration": 0.24066,
          "end_time": "2021-06-22T12:32:24.312780",
          "exception": false,
          "start_time": "2021-06-22T12:32:24.072120",
          "status": "completed"
        },
        "tags": [],
        "id": "changing-details"
      },
      "outputs": [],
      "source": [
        "from sklearn.model_selection import train_test_split\n",
        "X_train,X_test,y_train,y_test = train_test_split(X,y,test_size=0.30,stratify=y,random_state=123)"
      ]
    },
    {
      "cell_type": "code",
      "execution_count": 23,
      "id": "appointed-voluntary",
      "metadata": {
        "execution": {
          "iopub.execute_input": "2021-06-22T12:32:24.430083Z",
          "iopub.status.busy": "2021-06-22T12:32:24.428983Z",
          "iopub.status.idle": "2021-06-22T12:32:24.504948Z",
          "shell.execute_reply": "2021-06-22T12:32:24.504305Z",
          "shell.execute_reply.started": "2021-05-30T08:59:29.360604Z"
        },
        "papermill": {
          "duration": 0.136221,
          "end_time": "2021-06-22T12:32:24.505095",
          "exception": false,
          "start_time": "2021-06-22T12:32:24.368874",
          "status": "completed"
        },
        "tags": [],
        "id": "appointed-voluntary"
      },
      "outputs": [],
      "source": [
        "model=Sequential()\n",
        "model.add(Dense(100,activation='relu',input_shape=(4,)))\n",
        "\n",
        "model.add(Dense(3,activation='softmax'))"
      ]
    },
    {
      "cell_type": "code",
      "execution_count": 24,
      "id": "chronic-sussex",
      "metadata": {
        "execution": {
          "iopub.execute_input": "2021-06-22T12:32:24.626035Z",
          "iopub.status.busy": "2021-06-22T12:32:24.620919Z",
          "iopub.status.idle": "2021-06-22T12:32:24.632950Z",
          "shell.execute_reply": "2021-06-22T12:32:24.633440Z",
          "shell.execute_reply.started": "2021-05-30T08:59:29.402312Z"
        },
        "papermill": {
          "duration": 0.073264,
          "end_time": "2021-06-22T12:32:24.633632",
          "exception": false,
          "start_time": "2021-06-22T12:32:24.560368",
          "status": "completed"
        },
        "tags": [],
        "id": "chronic-sussex"
      },
      "outputs": [],
      "source": [
        "model.compile(optimizer='adam',loss='categorical_crossentropy',metrics=['accuracy'])"
      ]
    },
    {
      "cell_type": "code",
      "execution_count": 25,
      "id": "diagnostic-folder",
      "metadata": {
        "_kg_hide-output": true,
        "execution": {
          "iopub.execute_input": "2021-06-22T12:32:24.746703Z",
          "iopub.status.busy": "2021-06-22T12:32:24.746116Z",
          "iopub.status.idle": "2021-06-22T12:32:28.604269Z",
          "shell.execute_reply": "2021-06-22T12:32:28.603590Z",
          "shell.execute_reply.started": "2021-05-30T08:59:29.418781Z"
        },
        "papermill": {
          "duration": 3.915751,
          "end_time": "2021-06-22T12:32:28.604447",
          "exception": false,
          "start_time": "2021-06-22T12:32:24.688696",
          "status": "completed"
        },
        "tags": [],
        "colab": {
          "base_uri": "https://localhost:8080/"
        },
        "id": "diagnostic-folder",
        "outputId": "2f719cdb-250c-4fd5-8c10-e212432efb2a"
      },
      "outputs": [
        {
          "output_type": "stream",
          "name": "stdout",
          "text": [
            "Epoch 1/45\n",
            "4/4 [==============================] - 1s 100ms/step - loss: 1.3280 - accuracy: 0.3333 - val_loss: 1.1546 - val_accuracy: 0.3333\n",
            "Epoch 2/45\n",
            "4/4 [==============================] - 0s 17ms/step - loss: 1.1143 - accuracy: 0.3333 - val_loss: 1.0059 - val_accuracy: 0.3333\n",
            "Epoch 3/45\n",
            "4/4 [==============================] - 0s 17ms/step - loss: 0.9859 - accuracy: 0.3529 - val_loss: 0.9437 - val_accuracy: 0.5778\n",
            "Epoch 4/45\n",
            "4/4 [==============================] - 0s 17ms/step - loss: 0.9359 - accuracy: 0.6373 - val_loss: 0.9135 - val_accuracy: 0.6667\n",
            "Epoch 5/45\n",
            "4/4 [==============================] - 0s 14ms/step - loss: 0.9062 - accuracy: 0.6667 - val_loss: 0.8681 - val_accuracy: 0.6667\n",
            "Epoch 6/45\n",
            "4/4 [==============================] - 0s 17ms/step - loss: 0.8566 - accuracy: 0.6667 - val_loss: 0.8127 - val_accuracy: 0.6667\n",
            "Epoch 7/45\n",
            "4/4 [==============================] - 0s 18ms/step - loss: 0.8009 - accuracy: 0.7157 - val_loss: 0.7680 - val_accuracy: 0.6667\n",
            "Epoch 8/45\n",
            "4/4 [==============================] - 0s 12ms/step - loss: 0.7754 - accuracy: 0.6569 - val_loss: 0.7478 - val_accuracy: 0.6667\n",
            "Epoch 9/45\n",
            "4/4 [==============================] - 0s 18ms/step - loss: 0.7488 - accuracy: 0.6569 - val_loss: 0.7228 - val_accuracy: 0.6667\n",
            "Epoch 10/45\n",
            "4/4 [==============================] - 0s 18ms/step - loss: 0.7240 - accuracy: 0.6569 - val_loss: 0.6940 - val_accuracy: 0.6667\n",
            "Epoch 11/45\n",
            "4/4 [==============================] - 0s 14ms/step - loss: 0.6985 - accuracy: 0.6569 - val_loss: 0.6687 - val_accuracy: 0.6667\n",
            "Epoch 12/45\n",
            "4/4 [==============================] - 0s 19ms/step - loss: 0.6724 - accuracy: 0.6765 - val_loss: 0.6487 - val_accuracy: 0.7778\n",
            "Epoch 13/45\n",
            "4/4 [==============================] - 0s 20ms/step - loss: 0.6523 - accuracy: 0.8137 - val_loss: 0.6303 - val_accuracy: 0.8889\n",
            "Epoch 14/45\n",
            "4/4 [==============================] - 0s 20ms/step - loss: 0.6351 - accuracy: 0.9706 - val_loss: 0.6155 - val_accuracy: 0.9556\n",
            "Epoch 15/45\n",
            "4/4 [==============================] - 0s 12ms/step - loss: 0.6201 - accuracy: 0.9216 - val_loss: 0.6003 - val_accuracy: 0.8889\n",
            "Epoch 16/45\n",
            "4/4 [==============================] - 0s 18ms/step - loss: 0.6054 - accuracy: 0.8922 - val_loss: 0.5846 - val_accuracy: 0.9111\n",
            "Epoch 17/45\n",
            "4/4 [==============================] - 0s 17ms/step - loss: 0.5882 - accuracy: 0.9216 - val_loss: 0.5658 - val_accuracy: 0.9111\n",
            "Epoch 18/45\n",
            "4/4 [==============================] - 0s 12ms/step - loss: 0.5701 - accuracy: 0.9118 - val_loss: 0.5524 - val_accuracy: 0.8222\n",
            "Epoch 19/45\n",
            "4/4 [==============================] - 0s 17ms/step - loss: 0.5581 - accuracy: 0.8529 - val_loss: 0.5403 - val_accuracy: 0.7778\n",
            "Epoch 20/45\n",
            "4/4 [==============================] - 0s 17ms/step - loss: 0.5475 - accuracy: 0.7745 - val_loss: 0.5314 - val_accuracy: 0.7111\n",
            "Epoch 21/45\n",
            "4/4 [==============================] - 0s 12ms/step - loss: 0.5392 - accuracy: 0.6863 - val_loss: 0.5229 - val_accuracy: 0.7111\n",
            "Epoch 22/45\n",
            "4/4 [==============================] - 0s 12ms/step - loss: 0.5249 - accuracy: 0.7451 - val_loss: 0.5086 - val_accuracy: 0.8889\n",
            "Epoch 23/45\n",
            "4/4 [==============================] - 0s 17ms/step - loss: 0.5126 - accuracy: 0.9608 - val_loss: 0.5042 - val_accuracy: 0.9556\n",
            "Epoch 24/45\n",
            "4/4 [==============================] - 0s 14ms/step - loss: 0.5092 - accuracy: 0.9314 - val_loss: 0.4980 - val_accuracy: 0.8889\n",
            "Epoch 25/45\n",
            "4/4 [==============================] - 0s 12ms/step - loss: 0.5012 - accuracy: 0.9510 - val_loss: 0.4852 - val_accuracy: 0.9556\n",
            "Epoch 26/45\n",
            "4/4 [==============================] - 0s 19ms/step - loss: 0.4897 - accuracy: 0.9804 - val_loss: 0.4778 - val_accuracy: 0.9556\n",
            "Epoch 27/45\n",
            "4/4 [==============================] - 0s 20ms/step - loss: 0.4790 - accuracy: 0.9902 - val_loss: 0.4672 - val_accuracy: 0.9111\n",
            "Epoch 28/45\n",
            "4/4 [==============================] - 0s 20ms/step - loss: 0.4686 - accuracy: 0.9216 - val_loss: 0.4634 - val_accuracy: 0.7778\n",
            "Epoch 29/45\n",
            "4/4 [==============================] - 0s 16ms/step - loss: 0.4665 - accuracy: 0.8039 - val_loss: 0.4601 - val_accuracy: 0.7556\n",
            "Epoch 30/45\n",
            "4/4 [==============================] - 0s 26ms/step - loss: 0.4588 - accuracy: 0.7941 - val_loss: 0.4475 - val_accuracy: 0.8889\n",
            "Epoch 31/45\n",
            "4/4 [==============================] - 0s 30ms/step - loss: 0.4444 - accuracy: 0.9608 - val_loss: 0.4471 - val_accuracy: 0.9556\n",
            "Epoch 32/45\n",
            "4/4 [==============================] - 0s 24ms/step - loss: 0.4525 - accuracy: 0.8922 - val_loss: 0.4569 - val_accuracy: 0.7778\n",
            "Epoch 33/45\n",
            "4/4 [==============================] - 0s 29ms/step - loss: 0.4563 - accuracy: 0.7745 - val_loss: 0.4426 - val_accuracy: 0.8889\n",
            "Epoch 34/45\n",
            "4/4 [==============================] - 0s 23ms/step - loss: 0.4374 - accuracy: 0.9118 - val_loss: 0.4240 - val_accuracy: 0.9556\n",
            "Epoch 35/45\n",
            "4/4 [==============================] - 0s 24ms/step - loss: 0.4204 - accuracy: 0.9804 - val_loss: 0.4172 - val_accuracy: 0.9111\n",
            "Epoch 36/45\n",
            "4/4 [==============================] - 0s 24ms/step - loss: 0.4146 - accuracy: 0.9706 - val_loss: 0.4125 - val_accuracy: 0.8889\n",
            "Epoch 37/45\n",
            "4/4 [==============================] - 0s 25ms/step - loss: 0.4100 - accuracy: 0.9216 - val_loss: 0.4093 - val_accuracy: 0.8667\n",
            "Epoch 38/45\n",
            "4/4 [==============================] - 0s 27ms/step - loss: 0.4083 - accuracy: 0.8627 - val_loss: 0.4095 - val_accuracy: 0.7778\n",
            "Epoch 39/45\n",
            "4/4 [==============================] - 0s 34ms/step - loss: 0.4068 - accuracy: 0.8431 - val_loss: 0.4065 - val_accuracy: 0.7778\n",
            "Epoch 40/45\n",
            "4/4 [==============================] - 0s 19ms/step - loss: 0.3994 - accuracy: 0.8529 - val_loss: 0.3950 - val_accuracy: 0.8889\n",
            "Epoch 41/45\n",
            "4/4 [==============================] - 0s 24ms/step - loss: 0.3915 - accuracy: 0.9510 - val_loss: 0.3876 - val_accuracy: 0.9556\n",
            "Epoch 42/45\n",
            "4/4 [==============================] - 0s 24ms/step - loss: 0.3857 - accuracy: 0.9804 - val_loss: 0.3857 - val_accuracy: 0.9778\n",
            "Epoch 43/45\n",
            "4/4 [==============================] - 0s 23ms/step - loss: 0.3801 - accuracy: 0.9902 - val_loss: 0.3793 - val_accuracy: 0.9556\n",
            "Epoch 44/45\n",
            "4/4 [==============================] - 0s 22ms/step - loss: 0.3738 - accuracy: 0.9804 - val_loss: 0.3748 - val_accuracy: 0.9111\n",
            "Epoch 45/45\n",
            "4/4 [==============================] - 0s 22ms/step - loss: 0.3678 - accuracy: 0.9706 - val_loss: 0.3728 - val_accuracy: 0.8889\n"
          ]
        }
      ],
      "source": [
        "history=model.fit(X_train,y_train,epochs=45,validation_data=(X_test, y_test))"
      ]
    },
    {
      "cell_type": "code",
      "execution_count": 26,
      "id": "inappropriate-stanley",
      "metadata": {
        "execution": {
          "iopub.execute_input": "2021-06-22T12:32:28.776031Z",
          "iopub.status.busy": "2021-06-22T12:32:28.775396Z",
          "iopub.status.idle": "2021-06-22T12:32:28.833534Z",
          "shell.execute_reply": "2021-06-22T12:32:28.832997Z",
          "shell.execute_reply.started": "2021-05-30T08:59:33.178858Z"
        },
        "papermill": {
          "duration": 0.145631,
          "end_time": "2021-06-22T12:32:28.833671",
          "exception": false,
          "start_time": "2021-06-22T12:32:28.688040",
          "status": "completed"
        },
        "tags": [],
        "colab": {
          "base_uri": "https://localhost:8080/"
        },
        "id": "inappropriate-stanley",
        "outputId": "1feaea4f-9c5c-43da-e2ab-6cce46a0c11e"
      },
      "outputs": [
        {
          "output_type": "stream",
          "name": "stdout",
          "text": [
            "2/2 [==============================] - 0s 7ms/step - loss: 0.3728 - accuracy: 0.8889\n"
          ]
        },
        {
          "output_type": "execute_result",
          "data": {
            "text/plain": [
              "[0.37283414602279663, 0.8888888955116272]"
            ]
          },
          "metadata": {},
          "execution_count": 26
        }
      ],
      "source": [
        "model.evaluate(X_test,y_test)"
      ]
    },
    {
      "cell_type": "code",
      "execution_count": 27,
      "id": "filled-processor",
      "metadata": {
        "execution": {
          "iopub.execute_input": "2021-06-22T12:32:29.010331Z",
          "iopub.status.busy": "2021-06-22T12:32:29.009670Z",
          "iopub.status.idle": "2021-06-22T12:32:29.116315Z",
          "shell.execute_reply": "2021-06-22T12:32:29.115589Z",
          "shell.execute_reply.started": "2021-05-30T08:59:33.247097Z"
        },
        "papermill": {
          "duration": 0.1956,
          "end_time": "2021-06-22T12:32:29.116498",
          "exception": false,
          "start_time": "2021-06-22T12:32:28.920898",
          "status": "completed"
        },
        "tags": [],
        "colab": {
          "base_uri": "https://localhost:8080/"
        },
        "id": "filled-processor",
        "outputId": "634086ea-bc1a-43f5-a6c1-0ff779afc41d"
      },
      "outputs": [
        {
          "output_type": "stream",
          "name": "stdout",
          "text": [
            "1/1 [==============================] - 0s 123ms/step\n",
            "[[0.00283358 0.2753772  0.7217892 ]\n",
            " [0.00225861 0.28045645 0.7172848 ]\n",
            " [0.05532246 0.5528092  0.3918683 ]\n",
            " [0.02960834 0.50903994 0.46135172]\n",
            " [0.94229937 0.04554163 0.01215902]\n",
            " [0.02939654 0.5380469  0.43255657]\n",
            " [0.00242815 0.2291388  0.7684329 ]\n",
            " [0.00277496 0.24382702 0.7533979 ]\n",
            " [0.9421787  0.04616497 0.01165631]\n",
            " [0.00695634 0.32836437 0.66467935]]\n"
          ]
        }
      ],
      "source": [
        "pred = model.predict(X_test[:10])\n",
        "print(pred)"
      ]
    },
    {
      "cell_type": "code",
      "execution_count": 28,
      "id": "final-anniversary",
      "metadata": {
        "_kg_hide-output": true,
        "execution": {
          "iopub.execute_input": "2021-06-22T12:32:29.317880Z",
          "iopub.status.busy": "2021-06-22T12:32:29.317200Z",
          "iopub.status.idle": "2021-06-22T12:32:29.319636Z",
          "shell.execute_reply": "2021-06-22T12:32:29.320210Z",
          "shell.execute_reply.started": "2021-05-30T08:59:33.326721Z"
        },
        "papermill": {
          "duration": 0.117057,
          "end_time": "2021-06-22T12:32:29.320550",
          "exception": false,
          "start_time": "2021-06-22T12:32:29.203493",
          "status": "completed"
        },
        "tags": [],
        "colab": {
          "base_uri": "https://localhost:8080/"
        },
        "id": "final-anniversary",
        "outputId": "31dbe851-6247-487e-98bf-6442e484b67e"
      },
      "outputs": [
        {
          "output_type": "stream",
          "name": "stdout",
          "text": [
            "[2 2 1 1 0 1 2 2 0 2]\n",
            "[[0. 0. 1.]\n",
            " [0. 0. 1.]\n",
            " [0. 1. 0.]\n",
            " [0. 1. 0.]\n",
            " [1. 0. 0.]\n",
            " [0. 1. 0.]\n",
            " [0. 0. 1.]\n",
            " [0. 0. 1.]\n",
            " [1. 0. 0.]\n",
            " [0. 0. 1.]]\n"
          ]
        }
      ],
      "source": [
        "p=np.argmax(pred,axis=1)\n",
        "print(p)\n",
        "print(y_test[:10])"
      ]
    },
    {
      "cell_type": "code",
      "execution_count": 29,
      "id": "minus-matrix",
      "metadata": {
        "_kg_hide-output": true,
        "execution": {
          "iopub.execute_input": "2021-06-22T12:32:29.491331Z",
          "iopub.status.busy": "2021-06-22T12:32:29.490683Z",
          "iopub.status.idle": "2021-06-22T12:32:29.498037Z",
          "shell.execute_reply": "2021-06-22T12:32:29.498474Z",
          "shell.execute_reply.started": "2021-05-30T08:59:33.336241Z"
        },
        "papermill": {
          "duration": 0.094252,
          "end_time": "2021-06-22T12:32:29.498632",
          "exception": false,
          "start_time": "2021-06-22T12:32:29.404380",
          "status": "completed"
        },
        "tags": [],
        "colab": {
          "base_uri": "https://localhost:8080/"
        },
        "id": "minus-matrix",
        "outputId": "c11ce079-b8ab-4f15-9b13-246fceed308a"
      },
      "outputs": [
        {
          "output_type": "execute_result",
          "data": {
            "text/plain": [
              "[0.3333333432674408,\n",
              " 0.3333333432674408,\n",
              " 0.3529411852359772,\n",
              " 0.6372548937797546,\n",
              " 0.6666666865348816,\n",
              " 0.6666666865348816,\n",
              " 0.7156862616539001,\n",
              " 0.656862735748291,\n",
              " 0.656862735748291,\n",
              " 0.656862735748291,\n",
              " 0.656862735748291,\n",
              " 0.6764705777168274,\n",
              " 0.813725471496582,\n",
              " 0.970588207244873,\n",
              " 0.9215686321258545,\n",
              " 0.8921568393707275,\n",
              " 0.9215686321258545,\n",
              " 0.9117646813392639,\n",
              " 0.8529411554336548,\n",
              " 0.7745097875595093,\n",
              " 0.686274528503418,\n",
              " 0.7450980544090271,\n",
              " 0.9607843160629272,\n",
              " 0.9313725233078003,\n",
              " 0.9509803652763367,\n",
              " 0.9803921580314636,\n",
              " 0.9901960492134094,\n",
              " 0.9215686321258545,\n",
              " 0.8039215803146362,\n",
              " 0.7941176295280457,\n",
              " 0.9607843160629272,\n",
              " 0.8921568393707275,\n",
              " 0.7745097875595093,\n",
              " 0.9117646813392639,\n",
              " 0.9803921580314636,\n",
              " 0.970588207244873,\n",
              " 0.9215686321258545,\n",
              " 0.8627451062202454,\n",
              " 0.843137264251709,\n",
              " 0.8529411554336548,\n",
              " 0.9509803652763367,\n",
              " 0.9803921580314636,\n",
              " 0.9901960492134094,\n",
              " 0.9803921580314636,\n",
              " 0.970588207244873]"
            ]
          },
          "metadata": {},
          "execution_count": 29
        }
      ],
      "source": [
        "history.history['accuracy']"
      ]
    },
    {
      "cell_type": "code",
      "execution_count": 30,
      "id": "southeast-subsection",
      "metadata": {
        "_kg_hide-output": true,
        "execution": {
          "iopub.execute_input": "2021-06-22T12:32:29.674377Z",
          "iopub.status.busy": "2021-06-22T12:32:29.673488Z",
          "iopub.status.idle": "2021-06-22T12:32:29.676972Z",
          "shell.execute_reply": "2021-06-22T12:32:29.677416Z",
          "shell.execute_reply.started": "2021-05-30T08:59:33.348892Z"
        },
        "papermill": {
          "duration": 0.094097,
          "end_time": "2021-06-22T12:32:29.677576",
          "exception": false,
          "start_time": "2021-06-22T12:32:29.583479",
          "status": "completed"
        },
        "tags": [],
        "colab": {
          "base_uri": "https://localhost:8080/"
        },
        "id": "southeast-subsection",
        "outputId": "72dd200b-29ff-4633-9b2c-437b01991dac"
      },
      "outputs": [
        {
          "output_type": "execute_result",
          "data": {
            "text/plain": [
              "[0.3333333432674408,\n",
              " 0.3333333432674408,\n",
              " 0.5777778029441833,\n",
              " 0.6666666865348816,\n",
              " 0.6666666865348816,\n",
              " 0.6666666865348816,\n",
              " 0.6666666865348816,\n",
              " 0.6666666865348816,\n",
              " 0.6666666865348816,\n",
              " 0.6666666865348816,\n",
              " 0.6666666865348816,\n",
              " 0.7777777910232544,\n",
              " 0.8888888955116272,\n",
              " 0.9555555582046509,\n",
              " 0.8888888955116272,\n",
              " 0.9111111164093018,\n",
              " 0.9111111164093018,\n",
              " 0.8222222328186035,\n",
              " 0.7777777910232544,\n",
              " 0.7111111283302307,\n",
              " 0.7111111283302307,\n",
              " 0.8888888955116272,\n",
              " 0.9555555582046509,\n",
              " 0.8888888955116272,\n",
              " 0.9555555582046509,\n",
              " 0.9555555582046509,\n",
              " 0.9111111164093018,\n",
              " 0.7777777910232544,\n",
              " 0.7555555701255798,\n",
              " 0.8888888955116272,\n",
              " 0.9555555582046509,\n",
              " 0.7777777910232544,\n",
              " 0.8888888955116272,\n",
              " 0.9555555582046509,\n",
              " 0.9111111164093018,\n",
              " 0.8888888955116272,\n",
              " 0.8666666746139526,\n",
              " 0.7777777910232544,\n",
              " 0.7777777910232544,\n",
              " 0.8888888955116272,\n",
              " 0.9555555582046509,\n",
              " 0.9777777791023254,\n",
              " 0.9555555582046509,\n",
              " 0.9111111164093018,\n",
              " 0.8888888955116272]"
            ]
          },
          "metadata": {},
          "execution_count": 30
        }
      ],
      "source": [
        "history.history['val_accuracy']"
      ]
    },
    {
      "cell_type": "code",
      "execution_count": 31,
      "id": "thermal-festival",
      "metadata": {
        "execution": {
          "iopub.execute_input": "2021-06-22T12:32:29.904113Z",
          "iopub.status.busy": "2021-06-22T12:32:29.903055Z",
          "iopub.status.idle": "2021-06-22T12:32:30.022259Z",
          "shell.execute_reply": "2021-06-22T12:32:30.022799Z",
          "shell.execute_reply.started": "2021-05-30T08:59:33.365413Z"
        },
        "papermill": {
          "duration": 0.261118,
          "end_time": "2021-06-22T12:32:30.022993",
          "exception": false,
          "start_time": "2021-06-22T12:32:29.761875",
          "status": "completed"
        },
        "tags": [],
        "colab": {
          "base_uri": "https://localhost:8080/",
          "height": 472
        },
        "id": "thermal-festival",
        "outputId": "41ac2758-7496-446d-d30d-b3b5a647caae"
      },
      "outputs": [
        {
          "output_type": "display_data",
          "data": {
            "text/plain": [
              "<Figure size 640x480 with 1 Axes>"
            ],
            "image/png": "[encoded data removed]"
          },
          "metadata": {}
        }
      ],
      "source": [
        "plt.figure()\n",
        "\n",
        "\n",
        "plt.plot(history.history['accuracy'])\n",
        "plt.plot(history.history['val_accuracy'])\n",
        "\n",
        "plt.title('Model accuracy')\n",
        "plt.ylabel('Accuracy')\n",
        "plt.xlabel('Epoch')\n",
        "plt.legend(['Train', 'Test'])\n",
        "plt.show()\n",
        "\n"
      ]
    },
    {
      "cell_type": "code",
      "source": [],
      "metadata": {
        "id": "YYUQDvHM1OLx"
      },
      "id": "YYUQDvHM1OLx",
      "execution_count": 31,
      "outputs": []
    }
  ],
  "metadata": {
    "kernelspec": {
      "display_name": "Python 3",
      "language": "python",
      "name": "python3"
    },
    "language_info": {
      "codemirror_mode": {
        "name": "ipython",
        "version": 3
      },
      "file_extension": ".py",
      "mimetype": "text/x-python",
      "name": "python",
      "nbconvert_exporter": "python",
      "pygments_lexer": "ipython3",
      "version": "3.7.10"
    },
    "papermill": {
      "default_parameters": {},
      "duration": 33.884284,
      "end_time": "2021-06-22T12:32:32.172964",
      "environment_variables": {},
      "exception": null,
      "input_path": "__notebook__.ipynb",
      "output_path": "__notebook__.ipynb",
      "parameters": {},
      "start_time": "2021-06-22T12:31:58.288680",
      "version": "2.3.3"
    },
    "colab": {
      "provenance": []
    }
  },
  "nbformat": 4,
  "nbformat_minor": 5
}